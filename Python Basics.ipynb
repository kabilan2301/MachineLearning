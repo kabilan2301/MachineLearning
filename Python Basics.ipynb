{
  "cells": [
    {
      "cell_type": "markdown",
      "metadata": {
        "id": "WK2OkEp4uLBH"
      },
      "source": [
        "## Why Python ?\n",
        "- High level programming language\n",
        "- Designed to be easy to learn and master\n",
        "- Clean and clear syntax\n",
        "- Highly portable\n",
        "- Lots of libraries\n",
        "- Extremely readable code\n",
        "- Just too simple"
      ]
    },
    {
      "cell_type": "code",
      "execution_count": null,
      "metadata": {
        "id": "ObFmyEdzv6Am",
        "colab": {
          "base_uri": "https://localhost:8080/"
        },
        "outputId": "e689f35a-1659-432f-f87e-dd9cc669c9f6"
      },
      "outputs": [
        {
          "output_type": "stream",
          "name": "stdout",
          "text": [
            "Hello is a string, 21 is a decimal integer and 24.959 is floating number upto 3 decimal place\n"
          ]
        }
      ],
      "source": [
        "print (\"%s is a string, %d is a decimal integer and %.3f is floating number upto 3 decimal place\" %(\"Hello\",21,24.9586545))"
      ]
    },
    {
      "cell_type": "markdown",
      "metadata": {
        "id": "_maXw5DyxOlz"
      },
      "source": [
        "##  How to take input from user and use it?\n"
      ]
    },
    {
      "cell_type": "code",
      "execution_count": null,
      "metadata": {
        "id": "1g_Irj0-wNsV",
        "colab": {
          "base_uri": "https://localhost:8080/"
        },
        "outputId": "e5022f75-1cf9-427c-ecd7-8590de4c1aef"
      },
      "outputs": [
        {
          "output_type": "stream",
          "name": "stdout",
          "text": [
            "My name is Kabil\n",
            "Welcome 'Kabil' to Computer vision workshop.\n"
          ]
        }
      ],
      "source": [
        "name = input(\"My name is \")\n",
        "print (\"Welcome '%s' to Computer vision workshop.\" %name)"
      ]
    },
    {
      "cell_type": "markdown",
      "metadata": {
        "id": "uYqNM4JVuHJ2"
      },
      "source": []
    },
    {
      "cell_type": "markdown",
      "metadata": {
        "id": "0D_Js0LtxcDl"
      },
      "source": [
        "## Understanding difference between Compiler and Interpreter\n",
        " Compiler coverts the code as a whole from high level language to machine code whereas,\n",
        " Interpreter converts the code line by line from high language to machine code."
      ]
    },
    {
      "cell_type": "markdown",
      "metadata": {
        "id": "k_B2j4e-xeLK"
      },
      "source": [
        "## Comments\n",
        "\n",
        "### Single Line comment\n",
        "\n",
        "use `#` for single line comment\n",
        "\n",
        "### Multi Line comment\n",
        "use `'''` (three single quotes) \n",
        "\n",
        "Note: This is not PEP-8 supported coding standard. Use multiple single line comment to conform to PEP-8.\n",
        "\n",
        "for example:\n"
      ]
    },
    {
      "cell_type": "code",
      "execution_count": null,
      "metadata": {
        "id": "auE52g-kyAlY",
        "outputId": "0e122c54-291f-46bc-b7c2-f7e4e66e44a6"
      },
      "outputs": [
        {
          "name": "stdout",
          "output_type": "stream",
          "text": [
            "hello comments\n"
          ]
        }
      ],
      "source": [
        "'''\n",
        "This is an example to demonstrate single and multi-line comment\n",
        "\n",
        "Multi-line comment\n",
        "'''\n",
        "# single line comment\n",
        "\n",
        "print (\"hello comments\")     "
      ]
    },
    {
      "cell_type": "markdown",
      "metadata": {
        "id": "76dnVVusyJMk"
      },
      "source": [
        "#Data types\n",
        "- int\n",
        "- long\n",
        "- float\n",
        "- complex\n",
        "- boolean"
      ]
    },
    {
      "cell_type": "code",
      "execution_count": null,
      "metadata": {
        "id": "uKJ8JncKySXD",
        "colab": {
          "base_uri": "https://localhost:8080/"
        },
        "outputId": "1efd28a6-8027-4707-dfd1-6a8ebeb32be9"
      },
      "outputs": [
        {
          "output_type": "stream",
          "name": "stdout",
          "text": [
            "2 <class 'int'>\n",
            "222222222222222222 <class 'int'>\n",
            "2.2 <class 'float'>\n",
            "(2+3j) <class 'complex'>\n",
            "True <class 'bool'>\n",
            "2\n",
            "1\n"
          ]
        }
      ],
      "source": [
        "a = 2\n",
        "b = 222222222222222222\n",
        "c = 2.2\n",
        "d = 2+3j\n",
        "e = True\n",
        "\n",
        "print(a, type(a))\n",
        "print(b, type(b))\n",
        "print(c, type(c))\n",
        "print(d, type(d))\n",
        "print(e, type(e))\n",
        "\n",
        "f = int(c)\n",
        "print(f)\n",
        "\n",
        "g = int(e)\n",
        "print(g)"
      ]
    },
    {
      "cell_type": "markdown",
      "metadata": {
        "id": "i8cmIpbKzNH7"
      },
      "source": [
        "# STRING\n"
      ]
    },
    {
      "cell_type": "code",
      "execution_count": null,
      "metadata": {
        "id": "S3xxhKb8zXmJ",
        "colab": {
          "base_uri": "https://localhost:8080/"
        },
        "outputId": "3dadb8a6-12ee-45b8-d95e-8ed76ba77b32"
      },
      "outputs": [
        {
          "output_type": "stream",
          "name": "stdout",
          "text": [
            "enter your nameKabilan\n",
            "Hello Kabilan Welcome to COMPUTER VISION WORKSHOP\n"
          ]
        }
      ],
      "source": [
        "name = input(\"enter your name\")\n",
        "string_1 = \"Hello \" + name  # concatenation\n",
        "string_2 = 'Welcome to COMPUTER VISION WORKSHOP'\n",
        "print(string_1,string_2)"
      ]
    },
    {
      "cell_type": "code",
      "execution_count": null,
      "metadata": {
        "id": "IpW5m2D2z3Md",
        "colab": {
          "base_uri": "https://localhost:8080/"
        },
        "outputId": "5f2d5e27-1e2c-40ec-f786-ced29e1cf3dd"
      },
      "outputs": [
        {
          "output_type": "stream",
          "name": "stdout",
          "text": [
            "Hello Hello Hello Hello Hello Hello Hello Hello Hello Hello \n"
          ]
        }
      ],
      "source": [
        "# Repetition\n",
        "string_1 = \"Hello \"*10\n",
        "print (string_1)"
      ]
    },
    {
      "cell_type": "code",
      "execution_count": null,
      "metadata": {
        "id": "kbs37Q6Dz92U",
        "colab": {
          "base_uri": "https://localhost:8080/"
        },
        "outputId": "3aa670ca-fa6b-4cba-9361-d007878998fc"
      },
      "outputs": [
        {
          "output_type": "stream",
          "name": "stdout",
          "text": [
            "True\n",
            "False\n"
          ]
        }
      ],
      "source": [
        "string_1 = \"Hello Robotics Club Sastra \"\n",
        "\n",
        "print (\"Hello\" in string_1) #Remember that it is case sensitive  \n",
        "print (\"hello\" in string_1)"
      ]
    },
    {
      "cell_type": "code",
      "execution_count": null,
      "metadata": {
        "id": "5RjifEf-0iN3",
        "colab": {
          "base_uri": "https://localhost:8080/"
        },
        "outputId": "9593d158-4b69-4b3e-d469-40bef5d6cb46"
      },
      "outputs": [
        {
          "output_type": "stream",
          "name": "stdout",
          "text": [
            "H\n",
            "p\n",
            "He\n",
            "p\n",
            "ello Robotics Club Sastra, Welcome to computer vision worksh\n",
            "HloRbtc lbSsr,Wloet optrvso okhp\n",
            "pohskrow noisiv retupmoc ot emocleW ,artsaS bulC scitoboR olleH\n",
            "<class 'str'>\n"
          ]
        }
      ],
      "source": [
        "string_1 = \"Hello Robotics Club Sastra, Welcome to computer vision workshop\"\n",
        "# [start:stop:jump]\n",
        "print (string_1[0])         # print first character\n",
        "print (string_1[-1])\n",
        "print (string_1[0:2])       # print character at 0 and 1 index\n",
        "print (string_1[-1:])       # printing from backward. print character at last index\n",
        "print (string_1[1:-2])      # \n",
        "print (string_1[::2])       # printing every alternate digit\n",
        "print (string_1[::-1])      # printing reverse string\n",
        "print (type(string_1))"
      ]
    },
    {
      "cell_type": "code",
      "execution_count": null,
      "metadata": {
        "id": "Kp97S46Q1NwQ",
        "colab": {
          "base_uri": "https://localhost:8080/"
        },
        "outputId": "11c30424-8345-41a8-82aa-a214b98b372a"
      },
      "outputs": [
        {
          "output_type": "stream",
          "name": "stdout",
          "text": [
            "behknq\n"
          ]
        }
      ],
      "source": [
        "# print the alternative letter from b to s by jumping 3 values at a time\n",
        "a = \"abcdefghijklmnopqrstuvwxyz\"\n",
        "print(a[1:-7:3])"
      ]
    },
    {
      "cell_type": "markdown",
      "metadata": {
        "id": "ZJLLck_01pJ0"
      },
      "source": [
        "# STRING METHODS"
      ]
    },
    {
      "cell_type": "markdown",
      "metadata": {
        "id": "f1RiKYny1zhz"
      },
      "source": [
        "## String Methods\n",
        "\n",
        "- `capitalize()` - return string with first letter in upper case\n",
        "- `upper()`      - return string with all letter in upper case\n",
        "- `lower()`      - return string with all letter in lower case\n",
        "- `count(str)`   - count occurrence of 'str' in string\n",
        "- `find(str)`    - find 'str' in string. If found: return start index of first occurrance str, else return -1\n",
        "- `index(str)`   - same as find, but raises exception when str is not found\n",
        "- `join(seq)`    - join string represented as sequence into a string with a separator string between each string\n",
        "- `len(str)`     - returns length of string\n",
        "- `replace()`    - returns a copy of the string in which the occurrences of old have been replaced with new,optionally restricting the number of replacements to max.\n",
        "- `split(str)`   - return a list which has string of words separated by str\n",
        "- `strip(str)`   - remove occurrence of str from the beginning and the end of the string "
      ]
    },
    {
      "cell_type": "code",
      "execution_count": null,
      "metadata": {
        "colab": {
          "base_uri": "https://localhost:8080/"
        },
        "id": "_IqFVzbu1vc1",
        "outputId": "b92d4d60-058f-4865-a134-0dd955a42d18"
      },
      "outputs": [
        {
          "output_type": "stream",
          "name": "stdout",
          "text": [
            "Hello rcs, this is day one computer vision workshop\n",
            "HELLO RCS, THIS IS DAY ONE COMPUTER VISION WORKSHOP\n",
            "hello rcs, this is day one computer vision workshop\n",
            "3\n",
            "13\n",
            "HELLO RCS, this is day one computer vision workshop\n"
          ]
        }
      ],
      "source": [
        "string_1 = \"hello RCS, this is day one computer vision workshop\"\n",
        "cap_string = string_1.capitalize()\n",
        "print(cap_string)\n",
        "\n",
        "upper_string = string_1.upper()\n",
        "print(upper_string)\n",
        "\n",
        "lower_string = string_1.lower()\n",
        "print(lower_string)\n",
        "\n",
        "#count occurences\n",
        "n = string_1.count('is')\n",
        "print(n)\n",
        "\n",
        "# find index\n",
        "k = string_1.index('day')\n",
        "print(k)\n",
        "\n",
        "string_1 = string_1.replace('hello','HELLO')\n",
        "print(string_1)\n",
        "\n",
        "\n"
      ]
    },
    {
      "cell_type": "code",
      "execution_count": null,
      "metadata": {
        "colab": {
          "base_uri": "https://localhost:8080/"
        },
        "id": "-ACQxxxq3lC1",
        "outputId": "11d7082d-7f7c-449d-8486-c90fd4dca973"
      },
      "outputs": [
        {
          "output_type": "stream",
          "name": "stdout",
          "text": [
            "level\n"
          ]
        }
      ],
      "source": [
        "#joining the letters\n",
        "letter = \"e\"\n",
        "word = \"lvl\"\n",
        "new_word = letter.join(word)\n",
        "print (new_word)"
      ]
    },
    {
      "cell_type": "code",
      "execution_count": null,
      "metadata": {
        "id": "HMFRfohB3mYf",
        "colab": {
          "base_uri": "https://localhost:8080/"
        },
        "outputId": "59cb5731-5654-4db3-ff26-718503f7e860"
      },
      "outputs": [
        {
          "output_type": "stream",
          "name": "stdout",
          "text": [
            "51\n",
            "y\n"
          ]
        }
      ],
      "source": [
        "print(len(string_1))\n",
        "print(max(string_1))"
      ]
    },
    {
      "cell_type": "markdown",
      "metadata": {
        "id": "6na6Ryy73z95"
      },
      "source": [
        "# limited replacements"
      ]
    },
    {
      "cell_type": "code",
      "execution_count": null,
      "metadata": {
        "id": "v7zwDHCq37F6",
        "colab": {
          "base_uri": "https://localhost:8080/"
        },
        "outputId": "8fe0fc2c-b519-4ceb-ee51-b090a32a6216"
      },
      "outputs": [
        {
          "output_type": "stream",
          "name": "stdout",
          "text": [
            "replacement in string_1  HELLO RCS, thrcss rcss day one computer vision workshop\n"
          ]
        }
      ],
      "source": [
        "print (\"replacement in string_1 \", string_1.replace('i','rcs',2))"
      ]
    },
    {
      "cell_type": "code",
      "execution_count": null,
      "metadata": {
        "id": "YH1KPjum4cDv",
        "colab": {
          "base_uri": "https://localhost:8080/"
        },
        "outputId": "aafe61c0-438d-4241-c581-22ab516caabf"
      },
      "outputs": [
        {
          "output_type": "stream",
          "name": "stdout",
          "text": [
            "['asdfghjkl', 'qwertyuiop', 'zxcvbnm']\n"
          ]
        }
      ],
      "source": [
        "# split function\n",
        "string_1 = \"asdfghjkl qwertyuiop zxcvbnm\"\n",
        "string_data = string_1.split(\" \")\n",
        "print(string_data)"
      ]
    },
    {
      "cell_type": "markdown",
      "metadata": {
        "id": "EDeUc4De46Hl"
      },
      "source": [
        "## LETS DO SOME MATH"
      ]
    },
    {
      "cell_type": "code",
      "execution_count": null,
      "metadata": {
        "id": "h7NdAkKz5BP9",
        "colab": {
          "base_uri": "https://localhost:8080/"
        },
        "outputId": "5a65f89f-0df9-4c3f-c628-22598da0a623"
      },
      "outputs": [
        {
          "output_type": "stream",
          "name": "stdout",
          "text": [
            "16\n",
            "2\n",
            "63\n",
            "2.5\n",
            "2.5\n",
            "-2.5\n",
            "-2.5\n",
            "2\n",
            "2\n",
            "4782969\n",
            "(2, 1)\n",
            "<class 'tuple'>\n"
          ]
        }
      ],
      "source": [
        "x = 9\n",
        "y = 7\n",
        "print (x + y)\n",
        "print (x - y)\n",
        "print (x * y)      \n",
        "print (5 / 2)      \n",
        "print (5.0 / 2)\n",
        "print (-5 / 2)\n",
        "print (-5.0 / 2)\n",
        "print (5 // 2)     \n",
        "print (x % y)      \n",
        "print (x ** y)     \n",
        "print (divmod(5,2)) # GUESS WHAT IT RETURNS\n",
        "print (type(divmod(x,y)))"
      ]
    },
    {
      "cell_type": "code",
      "execution_count": null,
      "metadata": {
        "id": "T-kDggPy5NN7",
        "colab": {
          "base_uri": "https://localhost:8080/"
        },
        "outputId": "aa3d1255-49f7-4add-f518-da2f8cc4bf20"
      },
      "outputs": [
        {
          "output_type": "stream",
          "name": "stdout",
          "text": [
            "18\n"
          ]
        }
      ],
      "source": [
        "print (abs(-18)) # mod function of our math"
      ]
    },
    {
      "cell_type": "code",
      "execution_count": null,
      "metadata": {
        "id": "b3UlKq9d5Ra3",
        "colab": {
          "base_uri": "https://localhost:8080/"
        },
        "outputId": "a0e9a034-a150-43eb-807a-9d18cd13285c"
      },
      "outputs": [
        {
          "output_type": "stream",
          "name": "stdout",
          "text": [
            "2.0\n",
            "1.34\n"
          ]
        }
      ],
      "source": [
        "print (round(1.72767,0))\n",
        "print (round(1.34378,2))"
      ]
    },
    {
      "cell_type": "markdown",
      "metadata": {
        "id": "XyOSdpl25eG8"
      },
      "source": [
        "### USING MATH MODULE\n",
        "\n",
        "use import math"
      ]
    },
    {
      "cell_type": "code",
      "execution_count": null,
      "metadata": {
        "id": "OgpCBFNZ5iYZ",
        "colab": {
          "base_uri": "https://localhost:8080/"
        },
        "outputId": "6d684339-38a1-48d7-b54f-b9311cc87ff8"
      },
      "outputs": [
        {
          "output_type": "stream",
          "name": "stdout",
          "text": [
            "3\n",
            "2\n",
            "7.38905609893065\n",
            "3.141592653589793\n",
            "1.0\n",
            "2.0\n"
          ]
        }
      ],
      "source": [
        "import math as m\n",
        "print (m.ceil(2.33))\n",
        "print (m.floor(2.33))\n",
        "print (m.exp(2))      # exp(x) - return e**x\n",
        "print (m.pi)\n",
        "print (m.log(2,2))\n",
        "print (m.sqrt(4))"
      ]
    },
    {
      "cell_type": "markdown",
      "metadata": {
        "id": "pQLklaaQ5xgD"
      },
      "source": [
        "# Condtions\n",
        "if\n",
        "else-if"
      ]
    },
    {
      "cell_type": "markdown",
      "metadata": {
        "id": "ihPpZAYo53oq"
      },
      "source": [
        "## Operators\n",
        "\n",
        "\"<\" : Less Than\n",
        "\n",
        "\"<=\" : Less Than or Equal to\n",
        "\n",
        "\">\" : More Than \n",
        "\n",
        "\">=\" : More Than or Equal to\n",
        "\n",
        "\"==\" : Equal to\n",
        "\n",
        "\"!=\" : Not Equal to"
      ]
    },
    {
      "cell_type": "markdown",
      "metadata": {
        "id": "0yZKjN7Y57ab"
      },
      "source": []
    },
    {
      "cell_type": "code",
      "execution_count": null,
      "metadata": {
        "id": "IYuQz6f56MEz",
        "colab": {
          "base_uri": "https://localhost:8080/"
        },
        "outputId": "a5aa42d1-3bbf-4c63-b83d-55edadbd2687"
      },
      "outputs": [
        {
          "output_type": "stream",
          "name": "stdout",
          "text": [
            "number 1 is divisible by number 2\n"
          ]
        }
      ],
      "source": [
        "num_1 = 6\n",
        "num_2 = 2\n",
        "if (num_1%num_2 == 0):\n",
        "    print (\"number 1 is divisible by number 2\")"
      ]
    },
    {
      "cell_type": "code",
      "execution_count": null,
      "metadata": {
        "id": "c_gQPtfk6Px-",
        "colab": {
          "base_uri": "https://localhost:8080/"
        },
        "outputId": "dad868a3-ca9f-4d4e-8d18-d00137eb6ff5"
      },
      "outputs": [
        {
          "output_type": "stream",
          "name": "stdout",
          "text": [
            "number 1 is not divisible by number 2\n"
          ]
        }
      ],
      "source": [
        "num_1 = 6\n",
        "num_2 = 4\n",
        "if (num_1%num_2 == 0):\n",
        "    print (\"number 1 is divisible by number 2\")\n",
        "else:\n",
        "    print (\"number 1 is not divisible by number 2\")"
      ]
    },
    {
      "cell_type": "code",
      "execution_count": null,
      "metadata": {
        "id": "LduOvn2G6SXw",
        "colab": {
          "base_uri": "https://localhost:8080/"
        },
        "outputId": "9937a841-51f2-443f-986e-1af95a152ef7"
      },
      "outputs": [
        {
          "output_type": "stream",
          "name": "stdout",
          "text": [
            "Enter a num7\n",
            "The num is Odd\n"
          ]
        }
      ],
      "source": [
        "# check if a number is even or odd\n",
        "n1 = input(\"Enter a num\")\n",
        "n=int(n1)\n",
        "if (n % 2 == 0):\n",
        "  print(\"The num is Even\")\n",
        "else :\n",
        "  print(\"The num is Odd\")\n",
        "\n",
        "\n",
        "\n"
      ]
    },
    {
      "cell_type": "code",
      "execution_count": null,
      "metadata": {
        "id": "hh5jNkv66YnW"
      },
      "outputs": [],
      "source": []
    },
    {
      "cell_type": "markdown",
      "metadata": {
        "id": "IqaK5WeA6bVf"
      },
      "source": [
        "## if - elif - else"
      ]
    },
    {
      "cell_type": "code",
      "execution_count": null,
      "metadata": {
        "id": "Xly8s3IF6nAy"
      },
      "outputs": [],
      "source": [
        "num_1 = 6\n",
        "num_2 = 25\n",
        "if (num_1%num_2 == 0):\n",
        "    print (num_1,\" is divisible \",num_2)\n",
        "elif (num_2%num_1 == 0):\n",
        "    print (num_2,\" is divisible \",num_1)\n",
        "else:\n",
        "    print (\"Both numbers are not divisible by each other\")"
      ]
    },
    {
      "cell_type": "code",
      "execution_count": null,
      "metadata": {
        "id": "Rosvd_5W6-ay"
      },
      "outputs": [],
      "source": [
        "# nested if else\n",
        "\n",
        "num_1 = 4\n",
        "num_2 = 0\n",
        "\n",
        "if num_2 == 0:\n",
        "    print (\"Division by Zero is not allowed\")\n",
        "\n",
        "elif num_2 != 0:\n",
        "    if (num_1%num_2 == 0):\n",
        "        print (\"%d is divisible %d\" %(num_1,num_2))\n",
        "    else:\n",
        "        print (\"%d is not divisible %d\" %(num_1,num_2))"
      ]
    },
    {
      "cell_type": "markdown",
      "metadata": {
        "id": "fN0kbWGz7OSA"
      },
      "source": [
        "## LOOPS"
      ]
    },
    {
      "cell_type": "markdown",
      "metadata": {
        "id": "SLokFzmE7g90"
      },
      "source": [
        "while"
      ]
    },
    {
      "cell_type": "code",
      "execution_count": null,
      "metadata": {
        "id": "-lmmuz1c7W_f",
        "colab": {
          "base_uri": "https://localhost:8080/"
        },
        "outputId": "77090907-1e69-4d5e-c04f-d0a6d9a911fb"
      },
      "outputs": [
        {
          "output_type": "stream",
          "name": "stdout",
          "text": [
            "0\n",
            "1\n",
            "4\n",
            "9\n",
            "16\n"
          ]
        }
      ],
      "source": [
        "\n",
        "i = 0\n",
        "while i<5:\n",
        "    print (i*i)\n",
        "    i += 1"
      ]
    },
    {
      "cell_type": "code",
      "execution_count": null,
      "metadata": {
        "id": "Dnmp4B2g7co6",
        "colab": {
          "base_uri": "https://localhost:8080/"
        },
        "outputId": "d76e350e-c007-4d68-8732-aff29f271623"
      },
      "outputs": [
        {
          "output_type": "stream",
          "name": "stdout",
          "text": [
            "0\n",
            "1\n",
            "4\n",
            "9\n",
            "16\n"
          ]
        }
      ],
      "source": [
        "# infinity while loop - break\n",
        "i = 0\n",
        "while (1):\n",
        "    print (i*i)\n",
        "    i += 1\n",
        "    if i == 5:\n",
        "        break"
      ]
    },
    {
      "cell_type": "code",
      "execution_count": null,
      "metadata": {
        "id": "vS9UcrQ07ppW",
        "colab": {
          "base_uri": "https://localhost:8080/"
        },
        "outputId": "192fb0d9-b76b-4eae-e81a-862e866614db"
      },
      "outputs": [
        {
          "output_type": "stream",
          "name": "stdout",
          "text": [
            "4\n",
            "9\n",
            "16\n"
          ]
        }
      ],
      "source": [
        "# continue\n",
        "i = 0\n",
        "while (i<5):\n",
        "    if i<2:\n",
        "        i += 1\n",
        "        continue\n",
        "    print (i*i)\n",
        "    i += 1 "
      ]
    },
    {
      "cell_type": "markdown",
      "metadata": {
        "id": "oRdvd_mu7wBK"
      },
      "source": [
        "## Range function\n",
        "\n",
        "Syntax: range (arg1, arg2, arg3)\n",
        "\n",
        "- First argument: start value \n",
        "- Second argument: stop value\n",
        "- Third argument: step-size. \n",
        "\n",
        "The range function returns a list of values from the start value to the stop value (not included), moving in steps of size given by the step-size argument."
      ]
    },
    {
      "cell_type": "code",
      "execution_count": null,
      "metadata": {
        "id": "NbYuGsWK7w_W",
        "colab": {
          "base_uri": "https://localhost:8080/"
        },
        "outputId": "ad582607-9d8c-418b-83eb-73efeb10ba87"
      },
      "outputs": [
        {
          "output_type": "stream",
          "name": "stdout",
          "text": [
            "0\n",
            "1\n",
            "2\n",
            "3\n",
            "4\n",
            "5\n",
            "6\n",
            "7\n",
            "8\n",
            "9\n"
          ]
        }
      ],
      "source": [
        "for i in range (0,10):\n",
        "    print(i)"
      ]
    },
    {
      "cell_type": "code",
      "execution_count": null,
      "metadata": {
        "id": "n9FCy3yGBcfB",
        "colab": {
          "base_uri": "https://localhost:8080/"
        },
        "outputId": "aece6043-33a9-47a7-d7c8-ad8c5c97b167"
      },
      "outputs": [
        {
          "output_type": "stream",
          "name": "stdout",
          "text": [
            "0\n",
            "2\n",
            "4\n",
            "6\n",
            "8\n"
          ]
        }
      ],
      "source": [
        "for i in range(0,10,2):\n",
        "    print (i)"
      ]
    },
    {
      "cell_type": "code",
      "execution_count": null,
      "metadata": {
        "id": "1Ux7S5HyBoV2",
        "colab": {
          "base_uri": "https://localhost:8080/"
        },
        "outputId": "63231bbe-ab07-4ed7-8e31-ca7c4a237cc1"
      },
      "outputs": [
        {
          "output_type": "stream",
          "name": "stdout",
          "text": [
            "\n",
            "1 * 1 = 1\n",
            "1 * 2 = 2\n",
            "1 * 3 = 3\n",
            "1 * 4 = 4\n",
            "\n",
            "2 * 1 = 2\n",
            "2 * 2 = 4\n",
            "2 * 3 = 6\n",
            "2 * 4 = 8\n",
            "\n",
            "3 * 1 = 3\n",
            "3 * 2 = 6\n",
            "3 * 3 = 9\n",
            "3 * 4 = 12\n",
            "\n",
            "4 * 1 = 4\n",
            "4 * 2 = 8\n",
            "4 * 3 = 12\n",
            "4 * 4 = 16\n"
          ]
        }
      ],
      "source": [
        "for i in range (1,5):\n",
        "    print (\"\")\n",
        "    for j in range (1,5):\n",
        "        print (\"%d * %d = %d\" %(i,j,i*j))"
      ]
    },
    {
      "cell_type": "markdown",
      "metadata": {
        "id": "0l_a7UzpB7XM"
      },
      "source": [
        "# MORE EASY STUFF IN LOOPS"
      ]
    },
    {
      "cell_type": "code",
      "execution_count": null,
      "metadata": {
        "id": "ThyrNLptB5aR",
        "colab": {
          "base_uri": "https://localhost:8080/"
        },
        "outputId": "9221eaa2-3861-4616-95cc-19bb97675e04"
      },
      "outputs": [
        {
          "output_type": "stream",
          "name": "stdout",
          "text": [
            "enter your nameKabilan\n",
            "K\n",
            "a\n",
            "b\n",
            "i\n",
            "l\n",
            "a\n",
            "n\n"
          ]
        }
      ],
      "source": [
        "name  = input(\"enter your name\")\n",
        "for letter in name:\n",
        "  print(letter)"
      ]
    },
    {
      "cell_type": "markdown",
      "metadata": {
        "id": "KnFPNNY1CNNC"
      },
      "source": [
        "# **LISTS AND TUPLES IN PYTHON**"
      ]
    },
    {
      "cell_type": "markdown",
      "metadata": {
        "id": "XQqMzWhECr5O"
      },
      "source": [
        "## Topics to cover\n",
        "\n",
        "- Defining List\n",
        "- Indexing, slicing, check membership\n",
        "- Methods\n",
        "    - append\n",
        "    - insert\n",
        "    - count\n",
        "    - extend\n",
        "    - index\n",
        "    - pop\n",
        "    - remove\n",
        "    - reverse\n",
        "    - sort (reverse=True)\n",
        "    - sorted\n",
        "- length (len), max, min\n",
        "- copy\n",
        "- Multi-dimension\n",
        "- list to string using join\n",
        "- string to list using split\n",
        "\n",
        "## tuples vs lists \n",
        "    1. tuples are immutable i.e. cannot be changed unlike lists \n",
        "    2. tuples use parentheses, whereas lists use square brackets"
      ]
    },
    {
      "cell_type": "code",
      "execution_count": null,
      "metadata": {
        "id": "1cp213OVCgBJ"
      },
      "outputs": [],
      "source": [
        "#something similar to array\n",
        "a = [1,2,3,4]\n",
        "b = ['a',\"bcd\",'efgh']\n",
        "c = [1,'a',2,'33']\n",
        "print(a,b,c)\n",
        "print(type(a))"
      ]
    },
    {
      "cell_type": "code",
      "execution_count": null,
      "metadata": {
        "id": "4w6tIenLDsmf"
      },
      "outputs": [],
      "source": [
        "a=[1,2,3,4,5,6,7,8,9,10]\n",
        "print (a[0])\n",
        "print (a[0:7])\n",
        "print (a[-2:])"
      ]
    },
    {
      "cell_type": "code",
      "execution_count": null,
      "metadata": {
        "id": "3k9UlZfhD7b5"
      },
      "outputs": [],
      "source": [
        "a[___] = 27\n",
        "print(a)"
      ]
    },
    {
      "cell_type": "code",
      "execution_count": null,
      "metadata": {
        "id": "Kr9Ys5aOEWvh"
      },
      "outputs": [],
      "source": [
        "# lets add new elements to the list\n",
        "a.append(23)\n",
        "a.append(45)\n",
        "a.append()"
      ]
    },
    {
      "cell_type": "code",
      "execution_count": null,
      "metadata": {
        "id": "SaInHM20EpZk"
      },
      "outputs": [],
      "source": [
        "# you can insert also\n",
        "a.insert(3,55)\n",
        "a.insert(position, value)"
      ]
    },
    {
      "cell_type": "code",
      "execution_count": null,
      "metadata": {
        "id": "FtJMku9DEx2R"
      },
      "outputs": [],
      "source": [
        "#check for a member\n",
        "a = [1,2,3,4,5,6,7,8,9]\n",
        "i = int(input(\"enter a number\"))\n",
        "if i in a:\n",
        "  print(\"yes\")\n",
        "else:\n",
        "  print(\"no\")\n",
        "\n",
        "\n",
        "#lets check an element existence\n",
        "print(10 in a)"
      ]
    },
    {
      "cell_type": "code",
      "execution_count": null,
      "metadata": {
        "id": "UZDg0UKoFzTw"
      },
      "outputs": [],
      "source": [
        "a = [0,1,2,1,2,1,2,1,2,3,11]\n",
        "print(a)\n",
        "\n",
        "print(len(a))\n",
        "\n",
        "print(a.count(1))\n",
        "\n",
        "print(max(a))\n",
        "\n",
        "print(min(a))\n",
        "\n",
        "a.remove(11)\n",
        "\n",
        "print(a)\n",
        "\n",
        "a.sort()\n",
        "\n",
        "print(a)\n",
        "\n",
        "a.append(21)\n",
        "a.sort(reverse = True)\n",
        "print(a)\n",
        "\n",
        "a.pop()\n",
        "print(a)\n",
        "\n",
        "a.remove(1)\n",
        "print(a)"
      ]
    },
    {
      "cell_type": "markdown",
      "metadata": {
        "id": "7vFTT6uCHD8r"
      },
      "source": [
        "# Tuples"
      ]
    },
    {
      "cell_type": "code",
      "execution_count": null,
      "metadata": {
        "id": "1Gy5oCz-HHez",
        "colab": {
          "base_uri": "https://localhost:8080/"
        },
        "outputId": "3b1c6bc3-cfec-4d89-b8e2-65489a8de794"
      },
      "outputs": [
        {
          "output_type": "stream",
          "name": "stdout",
          "text": [
            "1\n",
            "2\n",
            "3\n",
            "4\n",
            "5\n"
          ]
        }
      ],
      "source": [
        "# they are similar to lists but are immutable\n",
        "roll = (1,2,3,4,5) \n",
        "for rno in roll:\n",
        "  print(rno)\n",
        "\n",
        "# roll.append(6)\n",
        "# roll[3] = 7"
      ]
    },
    {
      "cell_type": "code",
      "execution_count": null,
      "metadata": {
        "id": "YWXZPVofHowL",
        "colab": {
          "base_uri": "https://localhost:8080/"
        },
        "outputId": "a473dc8a-29dc-400f-e5ff-d486fa4b9de8"
      },
      "outputs": [
        {
          "output_type": "stream",
          "name": "stdout",
          "text": [
            "(1, 2, 3, 4, 5, 6)\n"
          ]
        }
      ],
      "source": [
        "tup_1 = (1,2,3) \n",
        "tup_2 = (4,5,6)\n",
        "tup_3 = tup_1 + tup_2\n",
        "print(tup_3)\n",
        "# print(7 in tup_3)"
      ]
    },
    {
      "cell_type": "code",
      "execution_count": null,
      "metadata": {
        "id": "zao_uz7mH6nb"
      },
      "outputs": [],
      "source": [
        "# list to string\n",
        "a = ['r','o','b','o','t']\n",
        "b = ('r','c','s')\n",
        "aa = \"\".join(a)\n",
        "print(aa)\n",
        "bb = \"\".join(b)\n",
        "print(bb)"
      ]
    },
    {
      "cell_type": "markdown",
      "metadata": {
        "id": "wJtpF2cmIXLH"
      },
      "source": [
        "# MULTI DIMENSION LIST"
      ]
    },
    {
      "cell_type": "code",
      "execution_count": null,
      "metadata": {
        "id": "JQy0rgr2IUrG"
      },
      "outputs": [],
      "source": [
        "a = [[1,2,3],[4,5,6],[7,8,9]]\n",
        "for row in a:\n",
        "  for col in row:\n",
        "    print(col,end = \" \")\n",
        "  print()"
      ]
    },
    {
      "cell_type": "markdown",
      "metadata": {
        "id": "B4fnvfMEIsaK"
      },
      "source": [
        "# Dictionary"
      ]
    },
    {
      "cell_type": "code",
      "execution_count": null,
      "metadata": {
        "id": "7kT9qoRhImag",
        "colab": {
          "base_uri": "https://localhost:8080/"
        },
        "outputId": "b9cd1dc8-16a9-4a50-d4b0-62683549dc2d"
      },
      "outputs": [
        {
          "output_type": "stream",
          "name": "stdout",
          "text": [
            "dict_items([('a', 1), ('b', 2), ('c', 3), ('4', [5, 2, 3, 4, 2]), ('5', 'string can also be stored')])\n",
            "dict_values([1, 2, 3, [5, 2, 3, 4, 2], 'string can also be stored'])\n"
          ]
        }
      ],
      "source": [
        "d = {'a':1, 'b':2 , 'c':3}\n",
        "d['4'] = [5,2,3,4,2]\n",
        "d['5'] = \"string can also be stored\"\n",
        "print(d.items())\n",
        "print(d.values())"
      ]
    },
    {
      "cell_type": "code",
      "execution_count": null,
      "metadata": {
        "id": "8_3LlST1JJ-z",
        "colab": {
          "base_uri": "https://localhost:8080/"
        },
        "outputId": "c208e627-62b1-41ca-bb00-7821d09855fe"
      },
      "outputs": [
        {
          "output_type": "stream",
          "name": "stdout",
          "text": [
            "key :  a  value :  1\n",
            "key :  b  value :  2\n",
            "key :  c  value :  3\n",
            "key :  4  value :  [5, 2, 3, 4, 2]\n",
            "key :  5  value :  string can also be stored\n"
          ]
        }
      ],
      "source": [
        "for i in d.keys():\n",
        "  print(\"key : \",i, \" value : \",d[i])"
      ]
    },
    {
      "cell_type": "code",
      "execution_count": null,
      "metadata": {
        "id": "sx-N5MhnJEqv"
      },
      "outputs": [],
      "source": [
        "del d['4']"
      ]
    },
    {
      "cell_type": "code",
      "execution_count": null,
      "metadata": {
        "id": "UyiCiwp8I0dW"
      },
      "outputs": [],
      "source": [
        "for i in d.keys():\n",
        "  print(\"key : \",i, \" value : \",d[i])"
      ]
    },
    {
      "cell_type": "markdown",
      "metadata": {
        "id": "nrbp8cXLJNQ7"
      },
      "source": [
        "## Dictionary Builtin methods\n",
        "- `clear()` - clear all elements of dictionary. Results in empty dictionary\n",
        "- `copy()` - create a copy of dictionary\n",
        "- `get(key, default=None)` - Returns value for given key. If Key is not present, returns the second argument.                            Second parameter is optional having default value of None\n",
        "- `items()`  - returns list of `(key,value)` tuple\n",
        "- `keys()`   - returns list of all key\n",
        "- `values()` - returns list of list of values "
      ]
    },
    {
      "cell_type": "code",
      "execution_count": null,
      "metadata": {
        "id": "FkeI8y_8JWXq"
      },
      "outputs": [],
      "source": [
        "# lets code here\n"
      ]
    },
    {
      "cell_type": "markdown",
      "metadata": {
        "id": "q6-9tXqStNIk"
      },
      "source": [
        "SETS"
      ]
    },
    {
      "cell_type": "code",
      "execution_count": null,
      "metadata": {
        "id": "0Gq7GE2_tPB4"
      },
      "outputs": [],
      "source": [
        "a = [1,2,3,4,3,2,1,2,3,2,1]\n",
        "print(a)\n",
        "\n",
        "b = set(a)\n",
        "print(b)\n",
        "print(len(b))"
      ]
    },
    {
      "cell_type": "markdown",
      "metadata": {
        "id": "AtFR9NuAJbiS"
      },
      "source": [
        "## <center>Functions in Python </center>\n",
        "### <center>Author: RCS </center>\n"
      ]
    },
    {
      "cell_type": "markdown",
      "metadata": {
        "id": "mqFmsvirJiO5"
      },
      "source": [
        "- Code reusability\n",
        "- Abstraction\n",
        "- Testing becomes easy"
      ]
    },
    {
      "cell_type": "markdown",
      "metadata": {
        "id": "JCLFVvLEJnyT"
      },
      "source": [
        "### Syntax"
      ]
    },
    {
      "cell_type": "markdown",
      "metadata": {
        "id": "7MQ7TEUJJpe8"
      },
      "source": [
        "```python\n",
        "def funcName(parameters):\n",
        "    # perform operations\n",
        "    returnStatement;\n",
        "```\n",
        "A semicolon (;) in python is used to denote seperation and not termination"
      ]
    },
    {
      "cell_type": "code",
      "execution_count": null,
      "metadata": {
        "id": "D9bZPgT9JuIo"
      },
      "outputs": [],
      "source": [
        "def funcName():\n",
        "    print(\"Welcome to workshop\")\n",
        "funcName()#function call"
      ]
    },
    {
      "cell_type": "code",
      "execution_count": null,
      "metadata": {
        "id": "X9CIXBQUJ2ir"
      },
      "outputs": [],
      "source": [
        "def adder(a,b):\n",
        "  return a+b\n",
        "\n",
        "print(adder(1,19))\n",
        "print(adder(\"robotics\", \"club\"))"
      ]
    },
    {
      "cell_type": "code",
      "execution_count": null,
      "metadata": {
        "id": "5MfWSWMAKDp6"
      },
      "outputs": [],
      "source": [
        "#write python code to swap a function"
      ]
    },
    {
      "cell_type": "code",
      "execution_count": null,
      "metadata": {
        "id": "VE2pYA9LKHSz"
      },
      "outputs": [],
      "source": [
        "# write python code to return a list"
      ]
    },
    {
      "cell_type": "markdown",
      "metadata": {
        "id": "X398rXvDKOtK"
      },
      "source": [
        "LOCAL AND GLOBAL VARIABLES"
      ]
    },
    {
      "cell_type": "code",
      "execution_count": null,
      "metadata": {
        "id": "Mifr6J0zKQk_"
      },
      "outputs": [],
      "source": [
        "a = 5;\n",
        "def func():\n",
        "    a = 25; # local to func()\n",
        "    print(\"from function\", a)\n",
        "func()\n",
        "print(a) # prints the global a value"
      ]
    },
    {
      "cell_type": "markdown",
      "metadata": {
        "id": "d_W_tTqMKahH"
      },
      "source": [
        "GLOBAL "
      ]
    },
    {
      "cell_type": "code",
      "execution_count": null,
      "metadata": {
        "id": "Eu9wCNIzKZXD"
      },
      "outputs": [],
      "source": [
        "a = 10;\n",
        "def func():\n",
        "    global a;\n",
        "    a = 15; # refers to global a\n",
        "func()\n",
        "print(a) # prints the global a value"
      ]
    },
    {
      "cell_type": "markdown",
      "metadata": {
        "id": "Rhy91Q0UKeMN"
      },
      "source": [
        "LAMBDA FUNCTION"
      ]
    },
    {
      "cell_type": "code",
      "execution_count": null,
      "metadata": {
        "id": "iCm51nWjKfx7"
      },
      "outputs": [],
      "source": [
        "x = 3;\n",
        "y= 4;\n",
        "sum = lambda x, y : x+y\n",
        "print(sum(x,y))"
      ]
    },
    {
      "cell_type": "markdown",
      "metadata": {
        "id": "f6ocBpv7NjJ0"
      },
      "source": [
        "LETS TEST OUR UNDERSTANDING"
      ]
    },
    {
      "cell_type": "code",
      "execution_count": null,
      "metadata": {
        "id": "5Ni6MqJ1NnBj"
      },
      "outputs": [],
      "source": [
        "# write a python code for removing duplicates in the list"
      ]
    },
    {
      "cell_type": "code",
      "execution_count": null,
      "metadata": {
        "id": "gXcB0KsxNnI2"
      },
      "outputs": [],
      "source": [
        "\n",
        "\n",
        "\n"
      ]
    },
    {
      "cell_type": "markdown",
      "metadata": {
        "id": "YZuQ3BTWNyC9"
      },
      "source": [
        "# MODULES"
      ]
    },
    {
      "cell_type": "markdown",
      "metadata": {
        "id": "31jff_dvN2hE"
      },
      "source": [
        "- Modules are set of Python programs in a directory\n",
        "- We can make set of related python library into a seperate directory which we call as a module\n",
        "- Just like functions, modules are reusable"
      ]
    },
    {
      "cell_type": "code",
      "execution_count": null,
      "metadata": {
        "id": "ogNgBRayN5BJ"
      },
      "outputs": [],
      "source": [
        "import time\n",
        "\n",
        "print(\"now wait for 5 seconds\")\n",
        "time.sleep(5)\n",
        "print(\"yeah, printing\")"
      ]
    }
  ],
  "metadata": {
    "colab": {
      "provenance": []
    },
    "kernelspec": {
      "display_name": "Python 3",
      "name": "python3"
    },
    "language_info": {
      "codemirror_mode": {
        "name": "ipython",
        "version": 3
      },
      "file_extension": ".py",
      "mimetype": "text/x-python",
      "name": "python",
      "nbconvert_exporter": "python",
      "pygments_lexer": "ipython3",
      "version": "3.10.6"
    }
  },
  "nbformat": 4,
  "nbformat_minor": 0
}